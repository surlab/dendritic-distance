{
  "cells": [
    {
      "cell_type": "markdown",
      "metadata": {
        "id": "view-in-github",
        "colab_type": "text"
      },
      "source": [
        "<a href=\"https://colab.research.google.com/github/GreggHeller1/dendritic_distance/blob/main/scripts/notebook.ipynb\" target=\"_parent\"><img src=\"https://colab.research.google.com/assets/colab-badge.svg\" alt=\"Open In Colab\"/></a>"
      ]
    },
    {
      "cell_type": "code",
      "execution_count": null,
      "id": "71ee021b",
      "metadata": {
        "id": "71ee021b",
        "outputId": "bf297273-cfe4-4de8-849b-e607b4de486a",
        "colab": {
          "base_uri": "https://localhost:8080/"
        }
      },
      "outputs": [
        {
          "output_type": "stream",
          "name": "stdout",
          "text": [
            "True\n"
          ]
        }
      ],
      "source": [
        "#settings\n",
        "%load_ext autoreload\n",
        "%autoreload 2\n",
        "try:\n",
        "  import google.colab\n",
        "  in_colab = True\n",
        "except:\n",
        "  in_colab = False\n",
        "print(in_colab)"
      ]
    },
    {
      "cell_type": "code",
      "execution_count": null,
      "id": "4e02e926",
      "metadata": {
        "colab": {
          "base_uri": "https://localhost:8080/"
        },
        "id": "4e02e926",
        "outputId": "feff9fee-65e6-45d9-de5d-84b4c5d55ae1"
      },
      "outputs": [
        {
          "output_type": "stream",
          "name": "stdout",
          "text": [
            "Cloning into 'Neuron_Tutorial'...\n",
            "remote: Enumerating objects: 75, done.\u001b[K\n",
            "remote: Counting objects: 100% (75/75), done.\u001b[K\n",
            "remote: Compressing objects: 100% (56/56), done.\u001b[K\n",
            "remote: Total 75 (delta 30), reused 49 (delta 14), pack-reused 0\u001b[K\n",
            "Unpacking objects: 100% (75/75), done.\n"
          ]
        }
      ],
      "source": [
        "#installs (for colab only, run this once)\n",
        "if in_colab:\n",
        "    ! git clone https://github.com/GreggHeller1/Neuron_Tutorial.git\n"
      ]
    },
    {
      "cell_type": "code",
      "execution_count": null,
      "id": "5e9731ca",
      "metadata": {
        "id": "5e9731ca",
        "outputId": "deaa4ed4-cca2-4cae-f2b5-d94015a55a80",
        "colab": {
          "base_uri": "https://localhost:8080/"
        }
      },
      "outputs": [
        {
          "output_type": "stream",
          "name": "stdout",
          "text": [
            "/content/Neuron_Tutorial\n"
          ]
        }
      ],
      "source": [
        "#local imports\n",
        "#cwd if in colab for imports to work\n",
        "if in_colab:\n",
        "    %cd /content/Neuron_Tutorial\n",
        "    \n",
        "from src import data_io as io\n",
        "from src import plotting\n",
        "from src import computation as comp\n"
      ]
    },
    {
      "cell_type": "code",
      "execution_count": null,
      "id": "db51ef2e",
      "metadata": {
        "id": "db51ef2e"
      },
      "outputs": [],
      "source": [
        "#imports\n",
        "import xarray as xr\n",
        "import pandas as pd\n",
        "from matplotlib import pyplot as plt\n",
        "import os"
      ]
    },
    {
      "cell_type": "code",
      "execution_count": null,
      "id": "a06b6e4a",
      "metadata": {
        "colab": {
          "base_uri": "https://localhost:8080/"
        },
        "id": "a06b6e4a",
        "outputId": "d8ac2865-dc12-4f35-f140-95372f1ecf22"
      },
      "outputs": [
        {
          "output_type": "stream",
          "name": "stdout",
          "text": [
            "/content/Neuron_Tutorial/scripts\n",
            "demo_data/test.txt\n",
            "/content/Neuron_Tutorial/scripts\n"
          ]
        },
        {
          "output_type": "execute_result",
          "data": {
            "text/plain": [
              "True"
            ]
          },
          "metadata": {},
          "execution_count": 5
        }
      ],
      "source": [
        "#define paths\n",
        "#cwd if in colab for file loading to work\n",
        "if in_colab:\n",
        "    %cd /content/Neuron_Tutorial/scripts\n",
        "    \n",
        "test_path = os.path.join('demo_data', 'test.txt')\n",
        "print(test_path)\n",
        "print(os.getcwd())\n",
        "os.path.exists(test_path)"
      ]
    },
    {
      "cell_type": "code",
      "execution_count": null,
      "id": "b3586a50",
      "metadata": {
        "colab": {
          "base_uri": "https://localhost:8080/"
        },
        "id": "b3586a50",
        "outputId": "ac6ac39f-a4a2-4165-dd7b-cfff90331ce8"
      },
      "outputs": [
        {
          "output_type": "stream",
          "name": "stdout",
          "text": [
            "Reading file at demo_data/test.txt\n",
            "Testing whether we can read the contents of a text file in colab\n",
            "\n",
            "maybe we need another line?\n"
          ]
        }
      ],
      "source": [
        "#data inputs\n",
        "io.readfile(test_path)\n",
        "\n"
      ]
    },
    {
      "cell_type": "code",
      "execution_count": null,
      "id": "82a5927b",
      "metadata": {
        "id": "82a5927b"
      },
      "outputs": [],
      "source": [
        "#data manipulation\n"
      ]
    },
    {
      "cell_type": "code",
      "execution_count": null,
      "id": "f700a7f6",
      "metadata": {
        "id": "f700a7f6"
      },
      "outputs": [],
      "source": [
        "#plots\n"
      ]
    },
    {
      "cell_type": "code",
      "execution_count": null,
      "id": "8dd23ba7",
      "metadata": {
        "id": "8dd23ba7"
      },
      "outputs": [],
      "source": [
        "#data output\n"
      ]
    }
  ],
  "metadata": {
    "colab": {
      "name": "Colab Template.ipynb",
      "provenance": [],
      "collapsed_sections": [],
      "include_colab_link": true
    },
    "jupytext": {
      "formats": "ipynb,py,md"
    },
    "kernelspec": {
      "display_name": "Python 3 (ipykernel)",
      "language": "python",
      "name": "python3"
    },
    "language_info": {
      "codemirror_mode": {
        "name": "ipython",
        "version": 3
      },
      "file_extension": ".py",
      "mimetype": "text/x-python",
      "name": "python",
      "nbconvert_exporter": "python",
      "pygments_lexer": "ipython3",
      "version": "3.9.12"
    }
  },
  "nbformat": 4,
  "nbformat_minor": 5
}